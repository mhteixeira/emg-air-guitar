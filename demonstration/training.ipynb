{
 "cells": [
  {
   "cell_type": "code",
   "execution_count": 14,
   "metadata": {},
   "outputs": [],
   "source": [
    "# Importing libraries\n",
    "import os \n",
    "import scipy.io\n",
    "import numpy as np\n",
    "import pandas as pd\n",
    "from sklearn import model_selection, svm, naive_bayes\n",
    "from sklearn.preprocessing import LabelEncoder\n",
    "from sklearn.metrics import accuracy_score\n",
    "import pickle\n",
    "import serial\n",
    "import time\n",
    "import pyautogui\n",
    "from sklearn.preprocessing import MinMaxScaler \n",
    "import warnings\n",
    "\n",
    "directory = '../Data/murillo'\n",
    "filenames = [ 'punch', 'rest', 'thumbs_up', 'victory']\n",
    "warnings.filterwarnings('ignore')\n",
    "\n",
    "np.random.seed(0)"
   ]
  },
  {
   "cell_type": "code",
   "execution_count": 15,
   "metadata": {},
   "outputs": [
    {
     "data": {
      "text/html": [
       "<div>\n",
       "<style scoped>\n",
       "    .dataframe tbody tr th:only-of-type {\n",
       "        vertical-align: middle;\n",
       "    }\n",
       "\n",
       "    .dataframe tbody tr th {\n",
       "        vertical-align: top;\n",
       "    }\n",
       "\n",
       "    .dataframe thead th {\n",
       "        text-align: right;\n",
       "    }\n",
       "</style>\n",
       "<table border=\"1\" class=\"dataframe\">\n",
       "  <thead>\n",
       "    <tr style=\"text-align: right;\">\n",
       "      <th></th>\n",
       "      <th>RMS</th>\n",
       "      <th>MAV</th>\n",
       "      <th>WL</th>\n",
       "      <th>INTENSITY</th>\n",
       "      <th>ZC</th>\n",
       "      <th>VAR</th>\n",
       "      <th>SSC</th>\n",
       "      <th>LABEL</th>\n",
       "    </tr>\n",
       "  </thead>\n",
       "  <tbody>\n",
       "    <tr>\n",
       "      <th>0</th>\n",
       "      <td>72.695053</td>\n",
       "      <td>55.97905</td>\n",
       "      <td>54.0</td>\n",
       "      <td>-1.012044</td>\n",
       "      <td>0</td>\n",
       "      <td>5311.126407</td>\n",
       "      <td>4101.0</td>\n",
       "      <td>punch</td>\n",
       "    </tr>\n",
       "    <tr>\n",
       "      <th>1</th>\n",
       "      <td>244.363455</td>\n",
       "      <td>192.60775</td>\n",
       "      <td>-585.0</td>\n",
       "      <td>0.200339</td>\n",
       "      <td>0</td>\n",
       "      <td>60013.565804</td>\n",
       "      <td>14998.0</td>\n",
       "      <td>punch</td>\n",
       "    </tr>\n",
       "    <tr>\n",
       "      <th>2</th>\n",
       "      <td>280.498644</td>\n",
       "      <td>221.99850</td>\n",
       "      <td>-132.0</td>\n",
       "      <td>0.338252</td>\n",
       "      <td>0</td>\n",
       "      <td>79074.863417</td>\n",
       "      <td>22122.0</td>\n",
       "      <td>punch</td>\n",
       "    </tr>\n",
       "    <tr>\n",
       "      <th>3</th>\n",
       "      <td>258.911153</td>\n",
       "      <td>199.18745</td>\n",
       "      <td>-812.0</td>\n",
       "      <td>0.258168</td>\n",
       "      <td>0</td>\n",
       "      <td>67371.844196</td>\n",
       "      <td>17885.0</td>\n",
       "      <td>punch</td>\n",
       "    </tr>\n",
       "    <tr>\n",
       "      <th>4</th>\n",
       "      <td>228.860984</td>\n",
       "      <td>184.00265</td>\n",
       "      <td>-91.0</td>\n",
       "      <td>0.134797</td>\n",
       "      <td>0</td>\n",
       "      <td>52640.552739</td>\n",
       "      <td>16048.0</td>\n",
       "      <td>punch</td>\n",
       "    </tr>\n",
       "  </tbody>\n",
       "</table>\n",
       "</div>"
      ],
      "text/plain": [
       "          RMS        MAV     WL  INTENSITY  ZC           VAR      SSC  LABEL\n",
       "0   72.695053   55.97905   54.0  -1.012044   0   5311.126407   4101.0  punch\n",
       "1  244.363455  192.60775 -585.0   0.200339   0  60013.565804  14998.0  punch\n",
       "2  280.498644  221.99850 -132.0   0.338252   0  79074.863417  22122.0  punch\n",
       "3  258.911153  199.18745 -812.0   0.258168   0  67371.844196  17885.0  punch\n",
       "4  228.860984  184.00265  -91.0   0.134797   0  52640.552739  16048.0  punch"
      ]
     },
     "execution_count": 15,
     "metadata": {},
     "output_type": "execute_result"
    }
   ],
   "source": [
    "# Feature generation\n",
    "threshold_multiplication = 1950*2100\n",
    "threshold_minus = 2100-1900\n",
    "def sgn(x1, x2):\n",
    "    if(x1*x2 >= threshold_multiplication and abs(x1-x2) >= threshold_minus):\n",
    "        return 1\n",
    "    else:\n",
    "        return 0\n",
    "\n",
    "dataframe = []\n",
    "\n",
    "def feature_extraction(xiao_data):\n",
    "    rms = np.sqrt(np.mean(xiao_data**2))\n",
    "    mav = np.sum(abs(xiao_data))/len(xiao_data)\n",
    "    wl = np.sum([xiao_data[n] - xiao_data[n-1] for n in range(1, len(xiao_data)-1)])\n",
    "    intensity = np.log(rms/len(xiao_data))\n",
    "    zc = np.sum([sgn(xiao_data[n], xiao_data[n+1]) for n in range(1, len(xiao_data)-1)])\n",
    "    var = np.sum(xiao_data**2)/(len(xiao_data)-1)\n",
    "    ssc = np.sum([xiao_data[n] - xiao_data[n-1] if (xiao_data[n] - xiao_data[n-1])>=0 else 0  for n in range(1, len(xiao_data) - 1)])  \n",
    "    return [rms, mav, wl, intensity, zc, var, ssc]\n",
    "\n",
    "for file in filenames:\n",
    "    with open(os.path.join(directory, f'{file}_continuous.txt'), \"r\") as f:\n",
    "        lines = f.readlines()\n",
    "    # extract the values after \"->\" and convert them to integers\n",
    "    values = [int(float(line.split(\"->\")[1].strip())) for line in lines]\n",
    "    for i in range(0, len(values)-200, 150):\n",
    "        x = values[0+i:200 + i]\n",
    "        x = np.array(x, dtype=np.float64)\n",
    "        x = x -  np.mean(x)\n",
    "        feature_data = feature_extraction(x)\n",
    "        feature_data.append(file)\n",
    "        dataframe.append(feature_data)\n",
    "            \n",
    "df = pd.DataFrame(dataframe, columns=[\"RMS\", \"MAV\", \"WL\", \"INTENSITY\", \"ZC\", \"VAR\", \"SSC\", \"LABEL\"])\n",
    "df.head()"
   ]
  },
  {
   "cell_type": "code",
   "execution_count": 3,
   "metadata": {},
   "outputs": [],
   "source": [
    "# Training-Test Split\n",
    "X = df.drop('LABEL', axis=1)\n",
    "y = df['LABEL']\n",
    "\n",
    "X_train, X_test, y_train, y_test = model_selection.train_test_split(X, y, test_size=0.2)\n",
    "\n",
    "Encoder = LabelEncoder()\n",
    "y_train = Encoder.fit_transform(y_train)\n",
    "y_test = Encoder.fit_transform(y_test)"
   ]
  },
  {
   "cell_type": "code",
   "execution_count": 4,
   "metadata": {},
   "outputs": [
    {
     "name": "stdout",
     "output_type": "stream",
     "text": [
      "SVM Accuracy Score -> 88.5%\n"
     ]
    }
   ],
   "source": [
    "# Training SVM\n",
    "SVM = svm.SVC(kernel='linear',gamma='auto')\n",
    "SVM.fit(X_train, y_train) \n",
    "predictions_SVM = SVM.predict(X_test)\n",
    "print(\"SVM Accuracy Score -> {accuracy:.1f}%\".format(accuracy = accuracy_score(predictions_SVM, y_test)*100))"
   ]
  },
  {
   "cell_type": "code",
   "execution_count": 16,
   "metadata": {},
   "outputs": [
    {
     "name": "stdout",
     "output_type": "stream",
     "text": [
      "NB Accuracy Score -> 54.9%\n"
     ]
    }
   ],
   "source": [
    "# Training Naive Bayes\n",
    "Naive = naive_bayes.MultinomialNB()\n",
    "scaler = MinMaxScaler()\n",
    "Naive.fit(scaler.fit_transform(X_train.values),y_train)# predict the labels on validation dataset\n",
    "predictions_NB = Naive.predict(scaler.transform(X_test))# Use accuracy_score function to get the accuracy\n",
    "print(\"NB Accuracy Score -> {accuracy:.1f}%\".format(accuracy = accuracy_score(predictions_NB, y_test)*100))"
   ]
  },
  {
   "cell_type": "code",
   "execution_count": 11,
   "metadata": {},
   "outputs": [
    {
     "name": "stdout",
     "output_type": "stream",
     "text": [
      "Neural network Accuracy Score -> 68.1%\n"
     ]
    }
   ],
   "source": [
    "# Training ANN\n",
    "from sklearn.neural_network import MLPClassifier\n",
    "clf = MLPClassifier()\n",
    "clf.fit(X_train, y_train)\n",
    "\n",
    "predictions_NN = clf.predict(X_test)\n",
    "print(\"Neural network Accuracy Score -> {accuracy:.1f}%\".format(accuracy = accuracy_score(predictions_NN, y_test)*100))"
   ]
  },
  {
   "cell_type": "code",
   "execution_count": 13,
   "metadata": {},
   "outputs": [],
   "source": [
    "# Saving the best model\n",
    "model_to_be_save = SVM\n",
    "f = open('classifier.pickle', 'wb')\n",
    "pickle.dump(model_to_be_save, f)\n",
    "f.close()"
   ]
  }
 ],
 "metadata": {
  "kernelspec": {
   "display_name": "Python 3",
   "language": "python",
   "name": "python3"
  },
  "language_info": {
   "codemirror_mode": {
    "name": "ipython",
    "version": 3
   },
   "file_extension": ".py",
   "mimetype": "text/x-python",
   "name": "python",
   "nbconvert_exporter": "python",
   "pygments_lexer": "ipython3",
   "version": "3.8.5"
  }
 },
 "nbformat": 4,
 "nbformat_minor": 4
}

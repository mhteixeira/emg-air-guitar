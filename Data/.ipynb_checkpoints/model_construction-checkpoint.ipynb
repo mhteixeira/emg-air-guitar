{
 "cells": [
  {
   "cell_type": "code",
   "execution_count": 1,
   "metadata": {},
   "outputs": [
    {
     "name": "stderr",
     "output_type": "stream",
     "text": [
      "C:\\Users\\guilh\\anaconda3\\lib\\site-packages\\pandas\\core\\computation\\expressions.py:20: UserWarning: Pandas requires version '2.7.3' or newer of 'numexpr' (version '2.7.1' currently installed).\n",
      "  from pandas.core.computation.check import NUMEXPR_INSTALLED\n"
     ]
    }
   ],
   "source": [
    "import os \n",
    "import scipy.io\n",
    "import numpy as np\n",
    "import pandas as pd\n",
    "from sklearn import model_selection, svm, naive_bayes\n",
    "from sklearn.preprocessing import LabelEncoder\n",
    "from sklearn.metrics import accuracy_score\n",
    "import pickle\n",
    "import serial\n",
    "import time\n",
    "import pyautogui\n",
    "\n",
    "directory = './brushed_data'\n",
    "filenames = ['guilherme.mat']\n",
    "\n",
    "np.random.seed(0)"
   ]
  },
  {
   "cell_type": "code",
   "execution_count": 2,
   "metadata": {},
   "outputs": [
    {
     "data": {
      "text/html": [
       "<div>\n",
       "<style scoped>\n",
       "    .dataframe tbody tr th:only-of-type {\n",
       "        vertical-align: middle;\n",
       "    }\n",
       "\n",
       "    .dataframe tbody tr th {\n",
       "        vertical-align: top;\n",
       "    }\n",
       "\n",
       "    .dataframe thead th {\n",
       "        text-align: right;\n",
       "    }\n",
       "</style>\n",
       "<table border=\"1\" class=\"dataframe\">\n",
       "  <thead>\n",
       "    <tr style=\"text-align: right;\">\n",
       "      <th></th>\n",
       "      <th>RMS</th>\n",
       "      <th>MAV</th>\n",
       "      <th>WL</th>\n",
       "      <th>INTENSITY</th>\n",
       "      <th>ZC</th>\n",
       "      <th>VAR</th>\n",
       "      <th>SSC</th>\n",
       "      <th>LABEL</th>\n",
       "    </tr>\n",
       "  </thead>\n",
       "  <tbody>\n",
       "    <tr>\n",
       "      <th>20</th>\n",
       "      <td>2017.947980</td>\n",
       "      <td>2015.849315</td>\n",
       "      <td>30.0</td>\n",
       "      <td>2.220765</td>\n",
       "      <td>8</td>\n",
       "      <td>4.090793e+06</td>\n",
       "      <td>13985.0</td>\n",
       "      <td>Punch</td>\n",
       "    </tr>\n",
       "    <tr>\n",
       "      <th>21</th>\n",
       "      <td>2023.040402</td>\n",
       "      <td>2020.785714</td>\n",
       "      <td>37.0</td>\n",
       "      <td>2.334242</td>\n",
       "      <td>11</td>\n",
       "      <td>4.113681e+06</td>\n",
       "      <td>13309.0</td>\n",
       "      <td>Punch</td>\n",
       "    </tr>\n",
       "    <tr>\n",
       "      <th>22</th>\n",
       "      <td>2024.756151</td>\n",
       "      <td>2021.189320</td>\n",
       "      <td>-17.0</td>\n",
       "      <td>2.285328</td>\n",
       "      <td>37</td>\n",
       "      <td>4.119636e+06</td>\n",
       "      <td>17311.0</td>\n",
       "      <td>Punch</td>\n",
       "    </tr>\n",
       "    <tr>\n",
       "      <th>23</th>\n",
       "      <td>2029.810205</td>\n",
       "      <td>2026.725888</td>\n",
       "      <td>-21.0</td>\n",
       "      <td>2.332494</td>\n",
       "      <td>24</td>\n",
       "      <td>4.141151e+06</td>\n",
       "      <td>15544.0</td>\n",
       "      <td>Punch</td>\n",
       "    </tr>\n",
       "    <tr>\n",
       "      <th>24</th>\n",
       "      <td>2020.888506</td>\n",
       "      <td>2017.374449</td>\n",
       "      <td>42.0</td>\n",
       "      <td>2.186343</td>\n",
       "      <td>36</td>\n",
       "      <td>4.102061e+06</td>\n",
       "      <td>19133.0</td>\n",
       "      <td>Punch</td>\n",
       "    </tr>\n",
       "  </tbody>\n",
       "</table>\n",
       "</div>"
      ],
      "text/plain": [
       "            RMS          MAV    WL  INTENSITY  ZC           VAR      SSC  \\\n",
       "20  2017.947980  2015.849315  30.0   2.220765   8  4.090793e+06  13985.0   \n",
       "21  2023.040402  2020.785714  37.0   2.334242  11  4.113681e+06  13309.0   \n",
       "22  2024.756151  2021.189320 -17.0   2.285328  37  4.119636e+06  17311.0   \n",
       "23  2029.810205  2026.725888 -21.0   2.332494  24  4.141151e+06  15544.0   \n",
       "24  2020.888506  2017.374449  42.0   2.186343  36  4.102061e+06  19133.0   \n",
       "\n",
       "    LABEL  \n",
       "20  Punch  \n",
       "21  Punch  \n",
       "22  Punch  \n",
       "23  Punch  \n",
       "24  Punch  "
      ]
     },
     "execution_count": 2,
     "metadata": {},
     "output_type": "execute_result"
    }
   ],
   "source": [
    "threshold_multiplication = 1950*2100\n",
    "threshold_minus = 2100-1900\n",
    "def sgn(x1, x2):\n",
    "    if(x1*x2 >= threshold_multiplication and abs(x1-x2) >= threshold_minus):\n",
    "        return 1\n",
    "    else:\n",
    "        return 0\n",
    "\n",
    "dataframe = []\n",
    "\n",
    "def feature_extraction(xiao_data):\n",
    "    rms = np.sqrt(np.mean(xiao_data**2))\n",
    "    mav = np.sum(abs(xiao_data))/len(xiao_data)\n",
    "    wl = np.sum([xiao_data[n] - xiao_data[n-1] for n in range(1, len(xiao_data)-1)])\n",
    "    intensity = np.log(rms/len(xiao_data))\n",
    "    zc = np.sum([sgn(xiao_data[n], xiao_data[n+1]) for n in range(1, len(xiao_data)-1)])\n",
    "    var = np.sum(xiao_data**2)/(len(xiao_data)-1)\n",
    "    ssc = np.sum([xiao_data[n] - xiao_data[n-1] if (xiao_data[n] - xiao_data[n-1])>=0 else 0  for n in range(1, len(xiao_data) - 1)])  \n",
    "    return [rms, mav, wl, intensity, zc, var, ssc]\n",
    "    \n",
    "for path in os.listdir(directory):\n",
    "    if(path != '.ipynb_checkpoints'):\n",
    "        for file in filenames:\n",
    "            data =  scipy.io.loadmat(os.path.join(directory, path, file))\n",
    "            for i in range(10):\n",
    "                x = data[f'{path}{i}']\n",
    "                x = np.array(x[:, 1], dtype=np.float64)\n",
    "\n",
    "                feature_data = feature_extraction(x)\n",
    "                feature_data.append(path)\n",
    "                dataframe.append(feature_data)\n",
    "            \n",
    "df = pd.DataFrame(dataframe, columns=[\"RMS\", \"MAV\", \"WL\", \"INTENSITY\", \"ZC\", \"VAR\", \"SSC\", \"LABEL\"])\n",
    "df = df[df['LABEL'].isin(['Relax', 'Punch', 'ThumbsUp', 'Victory'])]\n",
    "df.head()"
   ]
  },
  {
   "cell_type": "code",
   "execution_count": 3,
   "metadata": {},
   "outputs": [],
   "source": [
    "X = df.drop('LABEL', axis=1)\n",
    "y = df['LABEL']\n",
    "\n",
    "X_train, X_test, y_train, y_test = model_selection.train_test_split(X, y, test_size=0.2)\n",
    "\n",
    "Encoder = LabelEncoder()\n",
    "y_train = Encoder.fit_transform(y_train)\n",
    "y_test = Encoder.fit_transform(y_test)"
   ]
  },
  {
   "cell_type": "code",
   "execution_count": 4,
   "metadata": {},
   "outputs": [
    {
     "name": "stdout",
     "output_type": "stream",
     "text": [
      "SVM Accuracy Score -> 50.0%\n"
     ]
    }
   ],
   "source": [
    "SVM = svm.SVC(kernel='linear',gamma='auto')\n",
    "SVM.fit(X_train, y_train) \n",
    "predictions_SVM = SVM.predict(X_test)\n",
    "print(\"SVM Accuracy Score -> {accuracy:.1f}%\".format(accuracy = accuracy_score(predictions_SVM, y_test)*100))"
   ]
  },
  {
   "cell_type": "code",
   "execution_count": 5,
   "metadata": {},
   "outputs": [
    {
     "name": "stdout",
     "output_type": "stream",
     "text": [
      "NB Accuracy Score -> 12.5%\n"
     ]
    },
    {
     "name": "stderr",
     "output_type": "stream",
     "text": [
      "C:\\Users\\guilh\\anaconda3\\lib\\site-packages\\sklearn\\base.py:413: UserWarning: X has feature names, but MinMaxScaler was fitted without feature names\n",
      "  warnings.warn(\n"
     ]
    }
   ],
   "source": [
    "from sklearn.preprocessing import MinMaxScaler #fixed import\n",
    "Naive = naive_bayes.MultinomialNB()\n",
    "scaler = MinMaxScaler()\n",
    "Naive.fit(scaler.fit_transform(X_train.values),y_train)# predict the labels on validation dataset\n",
    "predictions_NB = Naive.predict(scaler.transform(X_test))# Use accuracy_score function to get the accuracy\n",
    "print(\"NB Accuracy Score -> {accuracy:.1f}%\".format(accuracy = accuracy_score(predictions_NB, y_test)*100))"
   ]
  },
  {
   "cell_type": "code",
   "execution_count": 7,
   "metadata": {},
   "outputs": [
    {
     "name": "stdout",
     "output_type": "stream",
     "text": [
      "Neural network Accuracy Score -> 0.0%\n"
     ]
    }
   ],
   "source": [
    "from sklearn.neural_network import MLPClassifier\n",
    "\n",
    "params = { 'hidden_layer_sizes' : [10,10],\n",
    "    'activation' : 'tanh', 'solver' : 'sgd',\n",
    "    'alpha' : 0.0, 'batch_size' : 10,\n",
    "    'random_state' : 1,'tol' : 0.0001,\n",
    "    'nesterovs_momentum' : False,\n",
    "    'learning_rate' : 'constant',\n",
    "    'learning_rate_init' : 0.01,\n",
    "    'max_iter' : 1000, 'shuffle' : True,\n",
    "    'n_iter_no_change' : 90, 'verbose' : False }\n",
    "    \n",
    "clf = MLPClassifier(**params)\n",
    "clf.fit(X_train, y_train)\n",
    "\n",
    "predictions_NN = clf.predict(X_test)\n",
    "print(\"Neural network Accuracy Score -> {accuracy:.1f}%\".format(accuracy = accuracy_score(predictions_NN, y_test)*100))"
   ]
  },
  {
   "cell_type": "code",
   "execution_count": 8,
   "metadata": {},
   "outputs": [],
   "source": [
    "model_to_be_save = SVM\n",
    "f = open('classifier.pickle', 'wb')\n",
    "pickle.dump(model_to_be_save, f)\n",
    "f.close()"
   ]
  },
  {
   "cell_type": "code",
   "execution_count": 9,
   "metadata": {},
   "outputs": [],
   "source": [
    "f = open('classifier.pickle', 'rb')\n",
    "classifier = pickle.load(f)\n",
    "f.close()"
   ]
  },
  {
   "cell_type": "code",
   "execution_count": 11,
   "metadata": {},
   "outputs": [
    {
     "ename": "SerialException",
     "evalue": "could not open port 'COM3': FileNotFoundError(2, 'O sistema não pode encontrar o arquivo especificado.', None, 2)",
     "output_type": "error",
     "traceback": [
      "\u001b[1;31m---------------------------------------------------------------------------\u001b[0m",
      "\u001b[1;31mSerialException\u001b[0m                           Traceback (most recent call last)",
      "\u001b[1;32m<ipython-input-11-66bd486312a6>\u001b[0m in \u001b[0;36m<module>\u001b[1;34m\u001b[0m\n\u001b[0;32m      7\u001b[0m \u001b[1;33m\u001b[0m\u001b[0m\n\u001b[0;32m      8\u001b[0m \u001b[1;31m# Open the serial connection to the Arduino\u001b[0m\u001b[1;33m\u001b[0m\u001b[1;33m\u001b[0m\u001b[1;33m\u001b[0m\u001b[0m\n\u001b[1;32m----> 9\u001b[1;33m \u001b[0mser\u001b[0m \u001b[1;33m=\u001b[0m \u001b[0mserial\u001b[0m\u001b[1;33m.\u001b[0m\u001b[0mSerial\u001b[0m\u001b[1;33m(\u001b[0m\u001b[0marduino_port\u001b[0m\u001b[1;33m,\u001b[0m \u001b[0mbaudrate\u001b[0m\u001b[1;33m=\u001b[0m\u001b[1;36m9600\u001b[0m\u001b[1;33m,\u001b[0m \u001b[0mtimeout\u001b[0m\u001b[1;33m=\u001b[0m\u001b[1;36m1\u001b[0m\u001b[1;33m)\u001b[0m\u001b[1;33m\u001b[0m\u001b[1;33m\u001b[0m\u001b[0m\n\u001b[0m\u001b[0;32m     10\u001b[0m \u001b[1;33m\u001b[0m\u001b[0m\n\u001b[0;32m     11\u001b[0m \u001b[1;32mdef\u001b[0m \u001b[0mcontrol_guitar\u001b[0m\u001b[1;33m(\u001b[0m\u001b[0mcase\u001b[0m\u001b[1;33m)\u001b[0m\u001b[1;33m:\u001b[0m\u001b[1;33m\u001b[0m\u001b[1;33m\u001b[0m\u001b[0m\n",
      "\u001b[1;32m~\\anaconda3\\lib\\site-packages\\serial\\serialwin32.py\u001b[0m in \u001b[0;36m__init__\u001b[1;34m(self, *args, **kwargs)\u001b[0m\n\u001b[0;32m     31\u001b[0m         \u001b[0mself\u001b[0m\u001b[1;33m.\u001b[0m\u001b[0m_overlapped_read\u001b[0m \u001b[1;33m=\u001b[0m \u001b[1;32mNone\u001b[0m\u001b[1;33m\u001b[0m\u001b[1;33m\u001b[0m\u001b[0m\n\u001b[0;32m     32\u001b[0m         \u001b[0mself\u001b[0m\u001b[1;33m.\u001b[0m\u001b[0m_overlapped_write\u001b[0m \u001b[1;33m=\u001b[0m \u001b[1;32mNone\u001b[0m\u001b[1;33m\u001b[0m\u001b[1;33m\u001b[0m\u001b[0m\n\u001b[1;32m---> 33\u001b[1;33m         \u001b[0msuper\u001b[0m\u001b[1;33m(\u001b[0m\u001b[0mSerial\u001b[0m\u001b[1;33m,\u001b[0m \u001b[0mself\u001b[0m\u001b[1;33m)\u001b[0m\u001b[1;33m.\u001b[0m\u001b[0m__init__\u001b[0m\u001b[1;33m(\u001b[0m\u001b[1;33m*\u001b[0m\u001b[0margs\u001b[0m\u001b[1;33m,\u001b[0m \u001b[1;33m**\u001b[0m\u001b[0mkwargs\u001b[0m\u001b[1;33m)\u001b[0m\u001b[1;33m\u001b[0m\u001b[1;33m\u001b[0m\u001b[0m\n\u001b[0m\u001b[0;32m     34\u001b[0m \u001b[1;33m\u001b[0m\u001b[0m\n\u001b[0;32m     35\u001b[0m     \u001b[1;32mdef\u001b[0m \u001b[0mopen\u001b[0m\u001b[1;33m(\u001b[0m\u001b[0mself\u001b[0m\u001b[1;33m)\u001b[0m\u001b[1;33m:\u001b[0m\u001b[1;33m\u001b[0m\u001b[1;33m\u001b[0m\u001b[0m\n",
      "\u001b[1;32m~\\anaconda3\\lib\\site-packages\\serial\\serialutil.py\u001b[0m in \u001b[0;36m__init__\u001b[1;34m(self, port, baudrate, bytesize, parity, stopbits, timeout, xonxoff, rtscts, write_timeout, dsrdtr, inter_byte_timeout, exclusive, **kwargs)\u001b[0m\n\u001b[0;32m    242\u001b[0m \u001b[1;33m\u001b[0m\u001b[0m\n\u001b[0;32m    243\u001b[0m         \u001b[1;32mif\u001b[0m \u001b[0mport\u001b[0m \u001b[1;32mis\u001b[0m \u001b[1;32mnot\u001b[0m \u001b[1;32mNone\u001b[0m\u001b[1;33m:\u001b[0m\u001b[1;33m\u001b[0m\u001b[1;33m\u001b[0m\u001b[0m\n\u001b[1;32m--> 244\u001b[1;33m             \u001b[0mself\u001b[0m\u001b[1;33m.\u001b[0m\u001b[0mopen\u001b[0m\u001b[1;33m(\u001b[0m\u001b[1;33m)\u001b[0m\u001b[1;33m\u001b[0m\u001b[1;33m\u001b[0m\u001b[0m\n\u001b[0m\u001b[0;32m    245\u001b[0m \u001b[1;33m\u001b[0m\u001b[0m\n\u001b[0;32m    246\u001b[0m     \u001b[1;31m#  -  -  -  -  -  -  -  -  -  -  -  -  -  -  -  -  -  -  -  -  -  -  -  -\u001b[0m\u001b[1;33m\u001b[0m\u001b[1;33m\u001b[0m\u001b[1;33m\u001b[0m\u001b[0m\n",
      "\u001b[1;32m~\\anaconda3\\lib\\site-packages\\serial\\serialwin32.py\u001b[0m in \u001b[0;36mopen\u001b[1;34m(self)\u001b[0m\n\u001b[0;32m     62\u001b[0m         \u001b[1;32mif\u001b[0m \u001b[0mself\u001b[0m\u001b[1;33m.\u001b[0m\u001b[0m_port_handle\u001b[0m \u001b[1;33m==\u001b[0m \u001b[0mwin32\u001b[0m\u001b[1;33m.\u001b[0m\u001b[0mINVALID_HANDLE_VALUE\u001b[0m\u001b[1;33m:\u001b[0m\u001b[1;33m\u001b[0m\u001b[1;33m\u001b[0m\u001b[0m\n\u001b[0;32m     63\u001b[0m             \u001b[0mself\u001b[0m\u001b[1;33m.\u001b[0m\u001b[0m_port_handle\u001b[0m \u001b[1;33m=\u001b[0m \u001b[1;32mNone\u001b[0m    \u001b[1;31m# 'cause __del__ is called anyway\u001b[0m\u001b[1;33m\u001b[0m\u001b[1;33m\u001b[0m\u001b[0m\n\u001b[1;32m---> 64\u001b[1;33m             \u001b[1;32mraise\u001b[0m \u001b[0mSerialException\u001b[0m\u001b[1;33m(\u001b[0m\u001b[1;34m\"could not open port {!r}: {!r}\"\u001b[0m\u001b[1;33m.\u001b[0m\u001b[0mformat\u001b[0m\u001b[1;33m(\u001b[0m\u001b[0mself\u001b[0m\u001b[1;33m.\u001b[0m\u001b[0mportstr\u001b[0m\u001b[1;33m,\u001b[0m \u001b[0mctypes\u001b[0m\u001b[1;33m.\u001b[0m\u001b[0mWinError\u001b[0m\u001b[1;33m(\u001b[0m\u001b[1;33m)\u001b[0m\u001b[1;33m)\u001b[0m\u001b[1;33m)\u001b[0m\u001b[1;33m\u001b[0m\u001b[1;33m\u001b[0m\u001b[0m\n\u001b[0m\u001b[0;32m     65\u001b[0m \u001b[1;33m\u001b[0m\u001b[0m\n\u001b[0;32m     66\u001b[0m         \u001b[1;32mtry\u001b[0m\u001b[1;33m:\u001b[0m\u001b[1;33m\u001b[0m\u001b[1;33m\u001b[0m\u001b[0m\n",
      "\u001b[1;31mSerialException\u001b[0m: could not open port 'COM3': FileNotFoundError(2, 'O sistema não pode encontrar o arquivo especificado.', None, 2)"
     ]
    }
   ],
   "source": [
    "import warnings\n",
    "\n",
    "arduino_port = \"COM3\"\n",
    "#ser.close()\n",
    "\n",
    "warnings.filterwarnings('ignore')\n",
    "\n",
    "# Open the serial connection to the Arduino\n",
    "ser = serial.Serial(arduino_port, baudrate=9600, timeout=1)\n",
    "\n",
    "def control_guitar(case):\n",
    "    if case == 'HangLoose':\n",
    "        pyautoguji.hotkey('a', 'down') \n",
    "    elif case == 'Pinch':\n",
    "        pyautogui.hotkey('s', 'down')\n",
    "    elif case == 'Punch':\n",
    "        pyautogui.hotkey('j', 'down')\n",
    "    elif case == 'ThumbsUp':\n",
    "        pyautogui.hotkey('k', 'down')\n",
    "    elif case == 'Victory':\n",
    "        pyautogui.hotkey('j', 'down')\n",
    "        \n",
    "# Read data from the serial port\n",
    "while True:\n",
    "    xiao_data = []\n",
    "    for i in range(100):\n",
    "        value = ser.readline().decode(\"utf-8\").rstrip()\n",
    "        if value:\n",
    "            xiao_data.append(float(value))\n",
    "        time.sleep(0.008)\n",
    "    feature_data = feature_extraction(np.array(xiao_data))\n",
    "    prediction = classifier.predict(np.array(feature_data).reshape(1, -1))\n",
    "    prediction = Encoder.inverse_transform(prediction)\n",
    "    print(prediction)\n",
    "    #control_guitar(prediction)\n",
    "    \n",
    "ser.close()"
   ]
  },
  {
   "cell_type": "code",
   "execution_count": 43,
   "metadata": {},
   "outputs": [],
   "source": [
    "ser.close()"
   ]
  },
  {
   "cell_type": "code",
   "execution_count": null,
   "metadata": {},
   "outputs": [],
   "source": []
  }
 ],
 "metadata": {
  "kernelspec": {
   "display_name": "Python 3",
   "language": "python",
   "name": "python3"
  },
  "language_info": {
   "codemirror_mode": {
    "name": "ipython",
    "version": 3
   },
   "file_extension": ".py",
   "mimetype": "text/x-python",
   "name": "python",
   "nbconvert_exporter": "python",
   "pygments_lexer": "ipython3",
   "version": "3.8.5"
  }
 },
 "nbformat": 4,
 "nbformat_minor": 4
}
